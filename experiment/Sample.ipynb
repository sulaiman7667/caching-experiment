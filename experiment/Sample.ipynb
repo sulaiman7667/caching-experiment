{
 "cells": [
  {
   "cell_type": "markdown",
   "metadata": {},
   "source": [
    "# Caching\n",
    "This is a big example notebook. It's a very good one. "
   ]
  },
  {
   "cell_type": "code",
   "execution_count": 6,
   "metadata": {},
   "outputs": [],
   "source": [
    "from memory import Memory, CyclicCache, LRUCache, RandomCache\n",
    "import random\n",
    "import matplotlib.pyplot as plt\n",
    "import numpy as np"
   ]
  },
  {
   "cell_type": "markdown",
   "metadata": {},
   "source": [
    "## Getting data\n",
    "creating multiple test data for different scenarios"
   ]
  },
  {
   "cell_type": "code",
   "execution_count": 142,
   "metadata": {},
   "outputs": [],
   "source": [
    "def color(count):\n",
    "    if(count > 900):\n",
    "        color = '#ff0000'\n",
    "\n",
    "    elif (count > 600):\n",
    "        color = '#ff9203'\n",
    "\n",
    "    elif (count > 300):\n",
    "        color = '#eaff03'\n",
    "\n",
    "    elif (count > 100):\n",
    "        color = '#00ff00'\n",
    "\n",
    "    else:\n",
    "        color = '#00ff00'\n",
    "    return color\n",
    "mem = Memory()\n",
    "lru = LRUCache()\n",
    "cache = CyclicCache()\n",
    "test_data_1 = []\n",
    "test_data_2 = []\n",
    "test_data_3 = []\n",
    "for i in range(1000):\n",
    "    test_data_1.append(random.randint(0,5))\n",
    "    test_data_2.append(random.randint(0,10))\n",
    "    test_data_3.append(random.randint(0,100))\n",
    "\n",
    "for address in test_data_1:\n",
    "    mem.lookup(address)\n",
    "    cache.lookup(address)\n",
    "\n",
    "test_data_1_lookups_4 = [mem.get_hit_count(),lru.get_hit_count(), cache.get_hit_count()]\n",
    "mem = Memory()\n",
    "lru = LRUCache()\n",
    "cache = CyclicCache()\n",
    "    \n",
    "for datum in test_data_2:\n",
    "    mem.lookup(datum)\n",
    "    cache.lookup(datum)\n",
    "\n",
    "test_data_2_lookups_4 = [mem.get_hit_count(),lru.get_hit_count(), cache.get_hit_count()]\n",
    "mem = Memory()\n",
    "lru = LRUCache()\n",
    "cache = CyclicCache()\n",
    "\n",
    "for datum in test_data_3:\n",
    "    mem.lookup(datum)\n",
    "    cache.lookup(datum)\n",
    "\n",
    "test_data_3_lookups_4 = [mem.get_hit_count(),lru.get_hit_count(), cache.get_hit_count()]\n",
    "mem = Memory()\n",
    "lru = LRUCache()\n",
    "cache = CyclicCache()\n",
    "# 2917490127091390573095731795731095901375093710971\n",
    "for address in test_data_1:\n",
    "    mem.lookup(address)\n",
    "    cache.lookup(address)\n",
    "\n",
    "test_data_1_lookups_4 += [mem.get_hit_count(),lru.get_hit_count(), cache.get_hit_count()]\n",
    "mem = Memory()\n",
    "lru = LRUCache()\n",
    "cache = CyclicCache()\n",
    "    \n",
    "for datum in test_data_2:\n",
    "    mem.lookup(datum)\n",
    "    cache.lookup(datum)\n",
    "\n",
    "test_data_2_lookups_4 += [mem.get_hit_count(),lru.get_hit_count(), cache.get_hit_count()]\n",
    "mem = Memory()\n",
    "lru = LRUCache()\n",
    "cache = CyclicCache()\n",
    "\n",
    "for datum in test_data_3:\n",
    "    mem.lookup(datum)\n",
    "    cache.lookup(datum)\n",
    "\n",
    "test_data_3_lookups_4 += [mem.get_hit_count(),lru.get_hit_count(), cache.get_hit_count()]\n",
    "mem = Memory()\n",
    "lru = LRUCache()\n",
    "cache = CyclicCache()\n",
    "# 335353523535325235134512333\n",
    "for address in test_data_1:\n",
    "    mem.lookup(address)\n",
    "    cache.lookup(address)\n",
    "\n",
    "test_data_1_lookups_4 += [mem.get_hit_count(),lru.get_hit_count(), cache.get_hit_count()]\n",
    "mem = Memory()\n",
    "lru = LRUCache()\n",
    "cache = CyclicCache()\n",
    "    \n",
    "for datum in test_data_2:\n",
    "    mem.lookup(datum)\n",
    "    cache.lookup(datum)\n",
    "\n",
    "test_data_2_lookups_4 += [mem.get_hit_count(),lru.get_hit_count(), cache.get_hit_count()]\n",
    "mem = Memory()\n",
    "lru = LRUCache()\n",
    "cache = CyclicCache()\n",
    "\n",
    "for datum in test_data_3:\n",
    "    mem.lookup(datum)\n",
    "    cache.lookup(datum)\n",
    "\n",
    "test_data_3_lookups_4 += [mem.get_hit_count(),lru.get_hit_count(), cache.get_hit_count()]"
   ]
  },
  {
   "cell_type": "markdown",
   "metadata": {},
   "source": [
    "## plotting data\n",
    "plotting the test data using matplotlib"
   ]
  },
  {
   "cell_type": "code",
   "execution_count": 144,
   "metadata": {},
   "outputs": [
    {
     "data": {
      "image/png": "[encoded data removed]",
      "text/plain": [
       "<Figure size 1440x864 with 1 Axes>"
      ]
     },
     "metadata": {
      "needs_background": "light"
     },
     "output_type": "display_data"
    }
   ],
   "source": [
    "labels = ['Memory', 'LRUCache', 'CyclicCache','Memory(8)', 'LRUCache(8)', 'CyclicCache(8)','Memory(12)', 'LRUCache(12)', 'CyclicCache(12)']\n",
    "x = np.arange(len(labels))\n",
    "width = 0.25\n",
    "fig, ax = plt.subplots()\n",
    "rects1 = ax.bar(x, test_data_1_lookups_4, width, color = '#00ff00', label='address<5', edgecolor=\"black\")\n",
    "x = x + width\n",
    "rects2 = ax.bar(x, test_data_2_lookups_4, width, color = '#f0b000', label='address<10', edgecolor=\"black\")\n",
    "x = x + width\n",
    "rects3 = ax.bar(x, test_data_3_lookups_4, width, color = '#ff4800', label='address<100', edgecolor=\"black\")\n",
    "x = x - width * 2\n",
    "\n",
    "\n",
    "ax.set_ylabel('memory lookups')\n",
    "ax.set_title('Memory lookups for different caching methods and sizes')\n",
    "ax.set_xticks(x+width)\n",
    "ax.set_xticklabels(labels)\n",
    "fig.set_figheight(12)\n",
    "fig.set_figwidth(20)\n",
    "ax.set_ylim([0,1200])\n",
    "for rect in rects1+rects2+rects3:\n",
    "    height = rect.get_height()\n",
    "    plt.text(rect.get_x() + rect.get_width()/2.0, height/2, '%d' % int(height), ha='center', va='bottom',fontsize = 10)\n",
    "ax.legend()\n",
    "ax.set_facecolor('grey')\n",
    "\n",
    "plt.show()"
   ]
  },
  {
   "cell_type": "code",
   "execution_count": null,
   "metadata": {},
   "outputs": [],
   "source": []
  },
  {
   "cell_type": "code",
   "execution_count": null,
   "metadata": {},
   "outputs": [],
   "source": []
  }
 ],
 "metadata": {
  "kernelspec": {
   "display_name": "Python 3",
   "language": "python",
   "name": "python3"
  },
  "language_info": {
   "codemirror_mode": {
    "name": "ipython",
    "version": 3
   },
   "file_extension": ".py",
   "mimetype": "text/x-python",
   "name": "python",
   "nbconvert_exporter": "python",
   "pygments_lexer": "ipython3",
   "version": "3.8.6"
  }
 },
 "nbformat": 4,
 "nbformat_minor": 2
}
